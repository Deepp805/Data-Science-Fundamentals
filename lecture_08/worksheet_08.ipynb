{
 "cells": [
  {
   "attachments": {},
   "cell_type": "markdown",
   "metadata": {},
   "source": [
    "# Worksheet 08\n",
    "\n",
    "Name:  Deep Patel\n",
    "\n",
    "UID: U37068394\n",
    "\n",
    "### Topics\n",
    "\n",
    "- Soft Clustering\n",
    "- Clustering Aggregation\n",
    "\n",
    "### Probability Review\n",
    "\n",
    "Read through [the following](https://medium.com/@gallettilance/overview-of-probability-3272b72c82c8)\n",
    "\n",
    "### Soft Clustering\n",
    "\n",
    "We generate 10 data points that come from a normal distribution with mean 5 and variance 1."
   ]
  },
  {
   "cell_type": "code",
   "execution_count": 5,
   "metadata": {},
   "outputs": [
    {
     "name": "stdout",
     "output_type": "stream",
     "text": [
      "[5.513848719635686, 4.407431770153509, 5.086566060601904, 3.978649451384015, 5.533377655157152, 5.172070402742254, 4.0828846098321705, 5.041368308870558, 4.408307269624098, 5.07946918402809]\n"
     ]
    }
   ],
   "source": [
    "import random\n",
    "import numpy as np\n",
    "from sklearn.cluster import KMeans\n",
    "\n",
    "mean = 5\n",
    "stdev = 1\n",
    "\n",
    "c1 = np.random.normal(mean, stdev, 10).tolist()\n",
    "print(c1)"
   ]
  },
  {
   "cell_type": "markdown",
   "metadata": {},
   "source": [
    "a) Generate 10 more data points, this time coming from a normal distribution with mean 8 and variance 1."
   ]
  },
  {
   "cell_type": "code",
   "execution_count": 3,
   "metadata": {},
   "outputs": [
    {
     "name": "stdout",
     "output_type": "stream",
     "text": [
      "[5.504251569512027, 6.751644782086487, 6.92666325954305, 8.036226880191286, 8.559854523419823, 7.542150718566511, 7.95337676892603, 9.422561158970067, 10.306014363403692, 7.333585724815152]\n"
     ]
    }
   ],
   "source": [
    "c2 = np.random.normal(8 , 1 , 10 ).tolist()\n",
    "print(c2)"
   ]
  },
  {
   "cell_type": "markdown",
   "metadata": {},
   "source": [
    "b) Flip a fair coin 10 times. If the coin lands on H, then pick the last data point of `c1` and remove it from `c1`, if T then pick the last data point from `c2` and remove it from `c2`. Add these 10 points to a list called `data`."
   ]
  },
  {
   "cell_type": "code",
   "execution_count": 6,
   "metadata": {},
   "outputs": [
    {
     "name": "stdout",
     "output_type": "stream",
     "text": [
      "[5.07946918402809, 4.408307269624098, 9.422561158970067, 5.041368308870558, 4.0828846098321705, 5.172070402742254, 5.533377655157152, 7.95337676892603, 7.542150718566511, 3.978649451384015]\n"
     ]
    }
   ],
   "source": [
    "data = []\n",
    "for i in range(10):\n",
    "    # flip coin\n",
    "    coin_output = random.choice([0, 1])\n",
    "    if coin_output == 0:\n",
    "        p1 = c1.pop()\n",
    "        data.append(p1)\n",
    "    else:\n",
    "        p2 = c2.pop()\n",
    "        data.append(p2)\n",
    "print(data)"
   ]
  },
  {
   "cell_type": "markdown",
   "metadata": {},
   "source": [
    "c) This `data` is a Gaussian Mixture Distribution with 2 mixture components. Over the next few questions we will walk through the GMM algorithm to see if we can uncover the parameters we used to generate this data. First, please list all these parameters of the GMM that created `data` and the values we know they have."
   ]
  },
  {
   "cell_type": "markdown",
   "metadata": {},
   "source": [
    "Mixture Model:\n",
    "* X comes from a mixture model with k mixture components if the prob distribution of X is $P(X = x) = \\sum_{j=1}^{k}P(C_j)P(X = x | C_j)$\n",
    "\n",
    "For each individual probability, mean & variance\n",
    "\n",
    "And a probaility of x being i-th species \n",
    "\n",
    "**Gaussian Mixture Model**: when all $P(X | S_j)$ are normal distribution with parameters: mean & standard deviation"
   ]
  },
  {
   "cell_type": "markdown",
   "metadata": {},
   "source": [
    "d) Let's assume there are two mixture components (note: we could plot the data and make the observation that there are two clusters). The EM algorithm asks us to start with a random `mean_j`, `variance_j`, `P(S_j)` for each component j. One method we could use to find sensible values for these is to apply K means with k=2 here.\n",
    "\n",
    "1. the centroids would be the estimates of the `mean_j`\n",
    "2. the intra-cluster variance could be the estimate of `variance_j`\n",
    "3. the proportion of points in each cluster could be the estimate of `P(S_j)`\n",
    "\n",
    "Go through this process and list the parameter estimates it gives. Are they close or far from the true values?"
   ]
  },
  {
   "cell_type": "code",
   "execution_count": 8,
   "metadata": {},
   "outputs": [
    {
     "name": "stdout",
     "output_type": "stream",
     "text": [
      "[5.07946918402809, 4.408307269624098, 5.041368308870558, 4.0828846098321705, 5.172070402742254, 5.533377655157152, 3.978649451384015]\n",
      "[9.422561158970067, 7.95337676892603, 7.542150718566511]\n",
      "P(C_1) = 0.7,  P(C_2) = 0.3\n",
      "mean_1 = 4.7565895545197625,  mean_2 = 8.306029548820868\n",
      "var_1 = 0.30596342702115203,  var_2 = 13.250030168791136\n"
     ]
    },
    {
     "name": "stderr",
     "output_type": "stream",
     "text": [
      "/Users/deeppatel/Library/Python/3.9/lib/python/site-packages/sklearn/cluster/_kmeans.py:1416: FutureWarning: The default value of `n_init` will change from 10 to 'auto' in 1.4. Set the value of `n_init` explicitly to suppress the warning\n",
      "  super()._check_params_vs_input(X, default_n_init=10)\n"
     ]
    }
   ],
   "source": [
    "kmeans = KMeans(2, init='k-means++').fit(X=np.array(data).reshape(-1, 1))\n",
    "\n",
    "c1 = [x[0] for x in filter(lambda x: x[1] == 0, zip(data, kmeans.labels_))]\n",
    "print(c1)\n",
    "c2 = [x[0] for x in filter(lambda x: x[1] != 0, zip(data, kmeans.labels_))]\n",
    "print(c2)\n",
    "\n",
    "prob_c = [ len(c1) / (len(c1) + len(c2)) , len(c2) / (len(c1) + len(c2)) ]\n",
    "mean = [ sum(c1)/len(c1) , sum(c2)/len(c2)  ]\n",
    "var = [ sum(map(lambda x : (x - mean[0])**2, c1)) / len(c1) , sum(map(lambda x : (x - mean[0])**2, c2)) / len(c2) ]\n",
    "\n",
    "print(\"P(C_1) = \" + str(prob_c[0]) + \",  P(C_2) = \" + str(prob_c[1]))\n",
    "print(\"mean_1 = \" + str(mean[0]) + \",  mean_2 = \" + str(mean[1]))\n",
    "print(\"var_1 = \" + str(var[0]) + \",  var_2 = \" + str(var[1]))"
   ]
  },
  {
   "cell_type": "markdown",
   "metadata": {},
   "source": [
    "means are close but variance is very different"
   ]
  },
  {
   "cell_type": "markdown",
   "metadata": {},
   "source": [
    "e) For each data point, compute `P(S_j | X_i)`. Comment on which cluster you think each point belongs to based on the estimated probabilities. How does that compare to the truth?"
   ]
  },
  {
   "cell_type": "code",
   "execution_count": 9,
   "metadata": {},
   "outputs": [
    {
     "name": "stdout",
     "output_type": "stream",
     "text": [
      "point =  5.07946918402809\n",
      "probability of observing that point if it came from cluster 0 =  0.7471677576333902\n",
      "probability of observing that point if it came from cluster 1 =  0.029229179839297195\n",
      "point =  4.408307269624098\n",
      "probability of observing that point if it came from cluster 0 =  0.6821350724125215\n",
      "probability of observing that point if it came from cluster 1 =  0.028833842670368273\n",
      "point =  9.422561158970067\n",
      "probability of observing that point if it came from cluster 0 =  4.11433990529922e-51\n",
      "probability of observing that point if it came from cluster 1 =  0.03000207386268916\n",
      "point =  5.041368308870558\n",
      "probability of observing that point if it came from cluster 0 =  0.8455173138314742\n",
      "probability of observing that point if it came from cluster 1 =  0.02920859908230604\n",
      "point =  4.0828846098321705\n",
      "probability of observing that point if it came from cluster 0 =  0.11545667139618093\n",
      "probability of observing that point if it came from cluster 1 =  0.02861764267235044\n",
      "point =  5.172070402742254\n",
      "probability of observing that point if it came from cluster 0 =  0.5185840189859441\n",
      "probability of observing that point if it came from cluster 1 =  0.02927825101825614\n",
      "point =  5.533377655157152\n",
      "probability of observing that point if it came from cluster 0 =  0.05195022689634722\n",
      "probability of observing that point if it came from cluster 1 =  0.029456742260792916\n",
      "point =  7.95337676892603\n",
      "probability of observing that point if it came from cluster 0 =  2.5709208921539897e-24\n",
      "probability of observing that point if it came from cluster 1 =  0.030098120587847686\n",
      "point =  7.542150718566511\n",
      "probability of observing that point if it came from cluster 0 =  1.3078548185645785e-18\n",
      "probability of observing that point if it came from cluster 1 =  0.03005878882878227\n",
      "point =  3.978649451384015\n",
      "probability of observing that point if it came from cluster 0 =  0.051455630779369585\n",
      "probability of observing that point if it came from cluster 1 =  0.02854509456750484\n",
      "5.07946918402809\n",
      "Probability of coming from C_1 = 0.9835107526093192\n",
      "Probability of coming from C_2 = 0.016489247390680906\n",
      "\n",
      "4.408307269624098\n",
      "Probability of coming from C_1 = 0.9822066295508028\n",
      "Probability of coming from C_2 = 0.017793370449197193\n",
      "\n",
      "9.422561158970067\n",
      "Probability of coming from C_1 = 3.199820948923462e-49\n",
      "Probability of coming from C_2 = 1.0\n",
      "\n",
      "5.041368308870558\n",
      "Probability of coming from C_1 = 0.9854108901393046\n",
      "Probability of coming from C_2 = 0.014589109860695344\n",
      "\n",
      "4.0828846098321705\n",
      "Probability of coming from C_1 = 0.9039729726981258\n",
      "Probability of coming from C_2 = 0.09602702730187422\n",
      "\n",
      "5.172070402742254\n",
      "Probability of coming from C_1 = 0.9763753160705553\n",
      "Probability of coming from C_2 = 0.02362468392944474\n",
      "\n",
      "5.533377655157152\n",
      "Probability of coming from C_1 = 0.8045000842021915\n",
      "Probability of coming from C_2 = 0.1954999157978084\n",
      "\n",
      "7.95337676892603\n",
      "Probability of coming from C_1 = 1.993086378106956e-22\n",
      "Probability of coming from C_2 = 1.0\n",
      "\n",
      "7.542150718566511\n",
      "Probability of coming from C_1 = 1.0152309398425541e-16\n",
      "Probability of coming from C_2 = 0.9999999999999998\n",
      "\n",
      "3.978649451384015\n",
      "Probability of coming from C_1 = 0.8079171390364221\n",
      "Probability of coming from C_2 = 0.19208286096357777\n",
      "\n"
     ]
    }
   ],
   "source": [
    "from scipy.stats import norm\n",
    "\n",
    "prob_c0_x = [] # P(C_0 | X_i)\n",
    "prob_c1_x = [] # P(C_1 | X_i)\n",
    "prob_x = [] # P(X_i)\n",
    "\n",
    "k = 2\n",
    "\n",
    "for p in data:\n",
    "    print(\"point = \", p)\n",
    "    pdf_i = []\n",
    "\n",
    "    for j in range(k):\n",
    "        # P(X_i | C_j)\n",
    "        pdf_i.append(norm.pdf(p, mean[j], var[j]))\n",
    "        print(\"probability of observing that point if it came from cluster \" + str(j) + \" = \", pdf_i[j])\n",
    "        # P(C_j) already computed\n",
    "        prob_c[j]\n",
    "\n",
    "    # P(X_i) = P(C_0)P(X_i | C_0) + P(C_1)P(X_i | C_1)\n",
    "    prob_x = prob_c[0] * pdf_i[0] + prob_c[1] * pdf_i[1]\n",
    "\n",
    "    # P(C_j | X_i) = P(X_i | C_j)P(C_j) / P(X_i)\n",
    "    prob_c0_x.append(pdf_i[0] * prob_c[0] / prob_x )\n",
    "    prob_c1_x.append(pdf_i[1] * prob_c[1] / prob_x )\n",
    "\n",
    "probs = zip(data, prob_c0_x, prob_c1_x)\n",
    "for p in probs:\n",
    "    print(p[0])\n",
    "    print(\"Probability of coming from C_1 = \" + str(p[1]))\n",
    "    print(\"Probability of coming from C_2 = \" + str(p[2]))\n",
    "    print()\n"
   ]
  },
  {
   "cell_type": "markdown",
   "metadata": {},
   "source": [
    "f) Having computed `P(S_j | X_i)`, update the estimates of `mean_j`, `var_j`, and `P(S_j)`. How different are these values from the original ones you got from K means? briefly comment."
   ]
  },
  {
   "cell_type": "code",
   "execution_count": 10,
   "metadata": {},
   "outputs": [
    {
     "name": "stdout",
     "output_type": "stream",
     "text": [
      "P(C_1) = 0.6443893784306722,  P(C_2) = 0.3556106215693278\n",
      "mean_1 = 4.764219046646771,  mean_2 = 7.73714066945386\n",
      "var_1 = 0.28778162080437436,  var_2 = 2.3749847242114344\n"
     ]
    }
   ],
   "source": [
    "prob_c = [sum(prob_c0_x)/ len(prob_c0_x), sum(prob_c1_x)/ len(prob_c1_x) ]\n",
    "mean = [sum([x[0] * x[1] for x in zip(prob_c0_x, data)]) / sum(prob_c0_x), \n",
    "        sum([x[0] * x[1] for x in zip(prob_c1_x, data)]) / sum(prob_c1_x) ]\n",
    "var = [sum([x[0] * (x[1] - mean[0]) ** 2 for x in zip(prob_c0_x, data)]) / sum(prob_c0_x),\n",
    "       sum([x[0] * (x[1] - mean[1]) ** 2 for x in zip(prob_c1_x, data)]) / sum(prob_c1_x)]\n",
    "\n",
    "print(\"P(C_1) = \" + str(prob_c[0]) + \",  P(C_2) = \" + str(prob_c[1]))\n",
    "print(\"mean_1 = \" + str(mean[0]) + \",  mean_2 = \" + str(mean[1]))\n",
    "print(\"var_1 = \" + str(var[0]) + \",  var_2 = \" + str(var[1]))"
   ]
  },
  {
   "cell_type": "markdown",
   "metadata": {},
   "source": [
    "different. It's more likely to be classified as C2"
   ]
  },
  {
   "cell_type": "markdown",
   "metadata": {},
   "source": [
    "g) Update `P(S_j | X_i)`. Comment on any differences or lack thereof you observe."
   ]
  },
  {
   "cell_type": "code",
   "execution_count": 11,
   "metadata": {},
   "outputs": [
    {
     "name": "stdout",
     "output_type": "stream",
     "text": [
      "point =  5.07946918402809\n",
      "probability of observing that point if it came from cluster 0 =  0.7607963033692714\n",
      "probability of observing that point if it came from cluster 1 =  0.0898117024747253\n",
      "point =  4.408307269624098\n",
      "probability of observing that point if it came from cluster 0 =  0.6452281786309024\n",
      "probability of observing that point if it came from cluster 1 =  0.0629003742462504\n",
      "point =  9.422561158970067\n",
      "probability of observing that point if it came from cluster 0 =  1.7564566176584518e-57\n",
      "probability of observing that point if it came from cluster 1 =  0.13058448605866974\n",
      "point =  5.041368308870558\n",
      "probability of observing that point if it came from cluster 0 =  0.871864061519051\n",
      "probability of observing that point if it came from cluster 1 =  0.08820243132854257\n",
      "point =  4.0828846098321705\n",
      "probability of observing that point if it came from cluster 0 =  0.08407823842570128\n",
      "probability of observing that point if it came from cluster 1 =  0.05142441294057215\n",
      "point =  5.172070402742254\n",
      "probability of observing that point if it came from cluster 0 =  0.5078095643329184\n",
      "probability of observing that point if it came from cluster 1 =  0.09374574566597717\n",
      "point =  5.533377655157152\n",
      "probability of observing that point if it came from cluster 0 =  0.03896501028717607\n",
      "probability of observing that point if it came from cluster 1 =  0.10921525991601572\n",
      "point =  7.95337676892603\n",
      "probability of observing that point if it came from cluster 0 =  2.9817826183628082e-27\n",
      "probability of observing that point if it came from cluster 1 =  0.16728198626542023\n",
      "point =  7.542150718566511\n",
      "probability of observing that point if it came from cluster 0 =  8.097155387705684e-21\n",
      "probability of observing that point if it came from cluster 1 =  0.1674115926987321\n",
      "point =  3.978649451384015\n",
      "probability of observing that point if it came from cluster 0 =  0.033402282238394365\n",
      "probability of observing that point if it came from cluster 1 =  0.04802014996116233\n",
      "5.07946918402809\n",
      "Probability of coming from C_1 = 0.938838017534969\n",
      "Probability of coming from C_2 = 0.0611619824650309\n",
      "\n",
      "4.408307269624098\n",
      "Probability of coming from C_1 = 0.9489484563661195\n",
      "Probability of coming from C_2 = 0.05105154363388053\n",
      "\n",
      "9.422561158970067\n",
      "Probability of coming from C_1 = 2.4373589507535384e-56\n",
      "Probability of coming from C_2 = 1.0\n",
      "\n",
      "5.041368308870558\n",
      "Probability of coming from C_1 = 0.9471232643802292\n",
      "Probability of coming from C_2 = 0.0528767356197707\n",
      "\n",
      "4.0828846098321705\n",
      "Probability of coming from C_1 = 0.747646907687327\n",
      "Probability of coming from C_2 = 0.252353092312673\n",
      "\n",
      "5.172070402742254\n",
      "Probability of coming from C_1 = 0.907542139006875\n",
      "Probability of coming from C_2 = 0.092457860993125\n",
      "\n",
      "5.533377655157152\n",
      "Probability of coming from C_1 = 0.39264920633415723\n",
      "Probability of coming from C_2 = 0.6073507936658427\n",
      "\n",
      "7.95337676892603\n",
      "Probability of coming from C_1 = 3.229984596877605e-26\n",
      "Probability of coming from C_2 = 1.0\n",
      "\n",
      "7.542150718566511\n",
      "Probability of coming from C_1 = 8.764367798331358e-20\n",
      "Probability of coming from C_2 = 1.0\n",
      "\n",
      "3.978649451384015\n",
      "Probability of coming from C_1 = 0.5576105828600049\n",
      "Probability of coming from C_2 = 0.44238941713999524\n",
      "\n"
     ]
    }
   ],
   "source": [
    "prob_c0_x = [] # P(C_0 | X_i)\n",
    "prob_c1_x = [] # P(C_1 | X_i)\n",
    "prob_x = [] # P(X_i)\n",
    "\n",
    "k = 2\n",
    "\n",
    "for p in data:\n",
    "    print(\"point = \", p)\n",
    "    pdf_i = []\n",
    "\n",
    "    for j in range(k):\n",
    "        # P(X_i | C_j)\n",
    "        pdf_i.append(norm.pdf(p, mean[j], var[j]))\n",
    "        print(\"probability of observing that point if it came from cluster \" + str(j) + \" = \", pdf_i[j])\n",
    "        # P(C_j) already computed\n",
    "        prob_c[j]\n",
    "\n",
    "    # P(X_i) = P(C_0)P(X_i | C_0) + P(C_1)P(X_i | C_1)\n",
    "    prob_x = prob_c[0] * pdf_i[0] + prob_c[1] * pdf_i[1]\n",
    "\n",
    "    # P(C_j | X_i) = P(X_i | C_j)P(C_j) / P(X_i)\n",
    "    prob_c0_x.append(pdf_i[0] * prob_c[0] / prob_x )\n",
    "    prob_c1_x.append(pdf_i[1] * prob_c[1] / prob_x )\n",
    "\n",
    "probs = zip(data, prob_c0_x, prob_c1_x)\n",
    "for p in probs:\n",
    "    print(p[0])\n",
    "    print(\"Probability of coming from C_1 = \" + str(p[1]))\n",
    "    print(\"Probability of coming from C_2 = \" + str(p[2]))\n",
    "    print()\n"
   ]
  },
  {
   "cell_type": "markdown",
   "metadata": {},
   "source": []
  },
  {
   "cell_type": "markdown",
   "metadata": {},
   "source": [
    "h) Use `P(S_j | X_i)` to create a hard assignment - label each point as belonging to a specific cluster (0 or 1)"
   ]
  },
  {
   "cell_type": "code",
   "execution_count": 12,
   "metadata": {},
   "outputs": [
    {
     "name": "stdout",
     "output_type": "stream",
     "text": [
      "points in cluster 0 : [5.07946918402809, 4.408307269624098, 5.041368308870558, 4.0828846098321705, 5.172070402742254, 3.978649451384015]\n",
      "points in cluster 1 : [9.422561158970067, 5.533377655157152, 7.95337676892603, 7.542150718566511]\n"
     ]
    }
   ],
   "source": [
    "assignments = [[], []]\n",
    "for x in zip(data, prob_c0_x):\n",
    "    p = x[1]\n",
    "    d = x[0]\n",
    "    if random.random() <= p:\n",
    "        assignments[0].append(d)\n",
    "    else:\n",
    "        assignments[1].append(d)\n",
    "print(f\"points in cluster 0 : {assignments[0]}\\npoints in cluster 1 : {assignments[1]}\")"
   ]
  }
 ],
 "metadata": {
  "kernelspec": {
   "display_name": "Python 3",
   "language": "python",
   "name": "python3"
  },
  "language_info": {
   "codemirror_mode": {
    "name": "ipython",
    "version": 3
   },
   "file_extension": ".py",
   "mimetype": "text/x-python",
   "name": "python",
   "nbconvert_exporter": "python",
   "pygments_lexer": "ipython3",
   "version": "3.9.6"
  },
  "orig_nbformat": 4,
  "vscode": {
   "interpreter": {
    "hash": "e7370f93d1d0cde622a1f8e1c04877d8463912d04d973331ad4851f04de6915a"
   }
  }
 },
 "nbformat": 4,
 "nbformat_minor": 2
}
